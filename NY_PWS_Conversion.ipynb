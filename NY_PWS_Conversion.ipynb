{
 "cells": [
  {
   "cell_type": "code",
   "execution_count": 49,
   "metadata": {},
   "outputs": [
    {
     "name": "stdout",
     "output_type": "stream",
     "text": [
      "Code complete, now formatting to GeoJSON\n",
      "Check the output location above for the GeoJSON file. Process complete.\n"
     ]
    }
   ],
   "source": [
    "##NY PWS modification for Github\n",
    "##file name to be\"state\"-\"state agency abbreiviation\" per Kyle\n",
    "##Emily Wiggans, 2022/12/12\n",
    "\n",
    "import arcpy \n",
    "\n",
    "#Convert to Feature Classes\n",
    "arcpy.conversion.JSONToFeatures(r\"C:\\Users\\ewiggans\\OneDrive - Lincoln Institute of Land Policy\\Desktop\\EPIC_drinking_water_map\\NY_pws.json\", r\"C:\\Users\\ewiggans\\OneDrive - Lincoln Institute of Land Policy\\Desktop\\EPIC_drinking_water_map\\MyProject\\MyProject.gdb\\NY_pws_JSONToFeatures\", \"POLYGON\")\n",
    "arcpy.conversion.JSONToFeatures(r\"C:\\Users\\ewiggans\\OneDrive - Lincoln Institute of Land Policy\\Desktop\\EPIC_drinking_water_map\\NY_pws1.json\", r\"C:\\Users\\ewiggans\\OneDrive - Lincoln Institute of Land Policy\\Desktop\\EPIC_drinking_water_map\\MyProject\\MyProject.gdb\\NY_pws1_JSONToFeatures\", \"POLYGON\")\n",
    "arcpy.conversion.JSONToFeatures(r\"C:\\Users\\ewiggans\\OneDrive - Lincoln Institute of Land Policy\\Desktop\\EPIC_drinking_water_map\\NY_pws2.json\", r\"C:\\Users\\ewiggans\\OneDrive - Lincoln Institute of Land Policy\\Desktop\\EPIC_drinking_water_map\\MyProject\\MyProject.gdb\\NY_pws2_JSONToFeatures\", \"POLYGON\")\n",
    "\n",
    "#Merge three feature sets together\n",
    "arcpy.management.Merge(\"NY_pws2_JSONToFeatures;NY_pws_3JSONToFeatures;NY_pws1_JSONToFeatures\", r\"C:\\Users\\ewiggans\\OneDrive - Lincoln Institute of Land Policy\\Desktop\\EPIC_drinking_water_map\\MyProject\\MyProject.gdb\\NY_pws_merge\", 'OBJECTID_1 \"OBJECTID_1\" true true false 8 Double 0 0,First,#,NY_pws2_JSONToFeatures,OBJECTID_1,-1,-1,NY_pws_3JSONToFeatures,OBJECTID_1,-1,-1,NY_pws1_JSONToFeatures,OBJECTID_1,-1,-1;PWS_Number \"PWS_Number\" true true false 2000000000 Text 0 0,First,#,NY_pws2_JSONToFeatures,PWS_Number,0,2000000000,NY_pws_3JSONToFeatures,PWS_Number,0,2000000000,NY_pws1_JSONToFeatures,PWS_Number,0,2000000000;PWS_Name \"PWS_Name\" true true false 2000000000 Text 0 0,First,#,NY_pws2_JSONToFeatures,PWS_Name,0,2000000000,NY_pws_3JSONToFeatures,PWS_Name,0,2000000000,NY_pws1_JSONToFeatures,PWS_Name,0,2000000000;Principal_ \"Principal_\" true true false 2000000000 Text 0 0,First,#,NY_pws2_JSONToFeatures,Principal_,0,2000000000,NY_pws_3JSONToFeatures,Principal_,0,2000000000,NY_pws1_JSONToFeatures,Principal_,0,2000000000;Population \"Population\" true true false 2000000000 Text 0 0,First,#,NY_pws2_JSONToFeatures,Population,0,2000000000,NY_pws_3JSONToFeatures,Population,0,2000000000,NY_pws1_JSONToFeatures,Population,0,2000000000;Shape_Length \"Shape_Length\" false true true 8 Double 0 0,First,#,NY_pws2_JSONToFeatures,Shape_Length,-1,-1,NY_pws_3JSONToFeatures,Shape_Length,-1,-1,NY_pws1_JSONToFeatures,Shape_Length,-1,-1;Shape_Area \"Shape_Area\" false true true 8 Double 0 0,First,#,NY_pws2_JSONToFeatures,Shape_Area,-1,-1,NY_pws_3JSONToFeatures,Shape_Area,-1,-1,NY_pws1_JSONToFeatures,Shape_Area,-1,-1', \"NO_SOURCE_INFO\")\n",
    "\n",
    "#export copy\n",
    "arcpy.conversion.ExportFeatures(\"NY_pws_merge\", r\"C:\\Users\\ewiggans\\OneDrive - Lincoln Institute of Land Policy\\Desktop\\EPIC_drinking_water_map\\MyProject\\MyProject.gdb\\NY_pws_formatted\", '', \"NOT_USE_ALIAS\", 'PWS_Number \"PWS_Number\" true true false 2000000000 Text 0 0,First,#,NY_pws_merge,PWS_Number,0,2000000000;PWS_Name \"PWS_Name\" true true false 2000000000 Text 0 0,First,#,NY_pws_merge,PWS_Name,0,2000000000;Principal_ \"Principal_\" true true false 2000000000 Text 0 0,First,#,NY_pws_merge,Principal_,0,2000000000;Population \"Population\" true true false 2000000000 Text 0 0,First,#,NY_pws_merge,Population,0,2000000000;Shape_Length \"Shape_Length\" false true true 8 Double 0 0,First,#,NY_pws_merge,Shape_Length,-1,-1;Shape_Area \"Shape_Area\" false true true 8 Double 0 0,First,#,NY_pws_merge,Shape_Area,-1,-1', None)\n",
    "\n",
    "#add fields\n",
    "arcpy.management.AddFields(\"NY_pws_formatted\", \"pwsid TEXT # 255 # #;name TEXT # 255 # #;service_area_type TEXT # 255 # #;data_source TEXT # 255 'Layer from Utility' #;source_url TEXT # 255 https://water.ny.gov/doh2/applinks/waterqual/#/waterMaps #;contact_email TEXT # 255 ewiggans@lincolninst.edu #;source_date TEXT # # 2022-12-07 #;contribution_date TEXT # # 2022-12-12 #\", None)\n",
    "\n",
    "#calculate fields as follows:\n",
    "#pwsid from original data\n",
    "arcpy.management.CalculateField(\"NY_pws_formatted\", \"pwsid\", \"!PWS_Number!\", \"PYTHON3\", \"\", \"TEXT\")\n",
    "\n",
    "#name from original data \n",
    "arcpy.management.CalculateField(\"NY_pws_formatted\", \"name\", \"!PWS_Name!\", \"PYTHON3\", \"\", \"TEXT\")\n",
    "\n",
    "#service_area_type mannual\n",
    "arcpy.management.CalculateField(\"NY_pws_formatted\", \"service_area_type\", \"'current service area'\", \"PYTHON3\", \"\", \"TEXT\")\n",
    "\n",
    "#data_source data from state, so utility \n",
    "arcpy.management.CalculateField(\"NY_pws_formatted\", \"data_source\", \"'Layer from Utility'\", \"PYTHON3\", \"\", \"TEXT\")\n",
    "\n",
    "#source_url location of displayed geojson\n",
    "arcpy.management.CalculateField(\"NY_pws_formatted\", \"source_url\", \"'https://water.ny.gov/doh2/applinks/waterqual/#/waterMaps'\", \"PYTHON3\", \"\", \"TEXT\")\n",
    "\n",
    "#contact_email my own, since I grabbed data\n",
    "arcpy.management.CalculateField(\"NY_pws_formatted\", \"contact_email\", \"'ewiggans@lincolninst.edu'\", \"PYTHON3\", \"\", \"TEXT\")\n",
    "\n",
    "#set date formatting for date fields, though they will be string\n",
    "import datetime\n",
    "source_date = datetime.date(2022, 12, 7)\n",
    "source_date_str = source_date.strftime('%Y-%m-%d')\n",
    "contribution_date = datetime.date(2022, 12, 12)\n",
    "contribution_date_str = contribution_date.strftime('%Y-%m-%d')\n",
    "# print(source_date_str)\n",
    "\n",
    "#source_date from when I grabbed data\n",
    "arcpy.management.CalculateField(\"NY_pws_formatted\", \"source_date\", \"'\" + source_date_str + \"'\")\n",
    "\n",
    "#contribution_date from when I modified data\n",
    "arcpy.management.CalculateField(\"NY_pws_formatted\", \"contribution_date\", \"'\" + contribution_date_str + \"'\")\n",
    "\n",
    "#remove other fields\n",
    "arcpy.management.DeleteField(\"NY_pws_formatted\", \"PWS_Number;PWS_Name;Principal_;Population\", \"DELETE_FIELDS\")\n",
    "print('Code complete, now formatting to GeoJSON')\n",
    "\n",
    "#convert to GeoJSON and project to WGS 84\n",
    "arcpy.conversion.FeaturesToJSON(\"NY_pws_formatted\", r\"C:\\Users\\ewiggans\\OneDrive - Lincoln Institute of Land Policy\\Desktop\\EPIC_drinking_water_map\\MyProject\\Deliverables\\NY-DEC.json\", \"NOT_FORMATTED\", \"NO_Z_VALUES\", \"NO_M_VALUES\", \"GEOJSON\", \"WGS84\", \"USE_FIELD_NAME\")\n",
    "\n",
    "import json\n",
    "# Load the GeoJSON file\n",
    "with open(r\"C:\\Users\\ewiggans\\OneDrive - Lincoln Institute of Land Policy\\Desktop\\EPIC_drinking_water_map\\MyProject\\Deliverables\\NY-DEC.geojson\", \"r\") as f:\n",
    "    geojson = json.load(f)\n",
    "\n",
    "# Remove the Shape_Area and Shape_Length fields from the properties of each feature\n",
    "for feature in geojson[\"features\"]:\n",
    "    properties = feature[\"properties\"]\n",
    "    properties.pop(\"Shape_Area\", None)\n",
    "    properties.pop(\"Shape_Length\", None)\n",
    "    properties.pop(\"OBJECTID\", None)\n",
    "\n",
    "# Write the modified GeoJSON object back to the file\n",
    "with open(r\"C:\\Users\\ewiggans\\OneDrive - Lincoln Institute of Land Policy\\Desktop\\EPIC_drinking_water_map\\MyProject\\Deliverables\\NY-DEC.geojson\", \"w\") as f:\n",
    "    json.dump(geojson, f)\n",
    "\n",
    "print('Check the output location above for the GeoJSON file. Process complete.')"
   ]
  },
  {
   "cell_type": "code",
   "execution_count": null,
   "metadata": {},
   "outputs": [],
   "source": []
  },
  {
   "cell_type": "code",
   "execution_count": null,
   "metadata": {},
   "outputs": [],
   "source": []
  }
 ],
 "metadata": {
  "kernelspec": {
   "display_name": "ArcGISPro",
   "language": "Python",
   "name": "python3"
  },
  "language_info": {
   "file_extension": ".py",
   "name": "python",
   "version": "3"
  }
 },
 "nbformat": 4,
 "nbformat_minor": 2
}
